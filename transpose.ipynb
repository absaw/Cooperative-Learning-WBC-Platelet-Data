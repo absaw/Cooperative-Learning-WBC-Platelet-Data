{
 "cells": [
  {
   "cell_type": "code",
   "execution_count": 1,
   "metadata": {},
   "outputs": [
    {
     "name": "stdout",
     "output_type": "stream",
     "text": [
      "hello\n"
     ]
    }
   ],
   "source": [
    "print('hello')\n",
    "import pandas as pd"
   ]
  },
  {
   "cell_type": "code",
   "execution_count": 2,
   "metadata": {},
   "outputs": [],
   "source": [
    "import pandas as pd\n",
    "\n",
    "def transpose_csv(input_file, output_file):\n",
    "    # Read the CSV file\n",
    "    data = pd.read_csv(input_file, index_col=0)  # Use the first column as the index\n",
    "    \n",
    "    # Transpose the data\n",
    "    transposed_data = data.transpose()\n",
    "    \n",
    "    # Save the transposed data to a new CSV file\n",
    "    transposed_data.to_csv(output_file)\n",
    "\n",
    "# Usage\n",
    "input_file = \"data/NormCountsPlateletAdjusted.csv\"  # Input CSV file\n",
    "output_file = \"data/NormCountsPlateletAdjustedTransposed.csv\"  # Output CSV file\n",
    "\n",
    "transpose_csv(input_file, output_file)"
   ]
  }
 ],
 "metadata": {
  "kernelspec": {
   "display_name": "env_ml",
   "language": "python",
   "name": "python3"
  },
  "language_info": {
   "codemirror_mode": {
    "name": "ipython",
    "version": 3
   },
   "file_extension": ".py",
   "mimetype": "text/x-python",
   "name": "python",
   "nbconvert_exporter": "python",
   "pygments_lexer": "ipython3",
   "version": "3.11.5"
  }
 },
 "nbformat": 4,
 "nbformat_minor": 2
}
