{
 "cells": [
  {
   "cell_type": "code",
   "execution_count": null,
   "metadata": {},
   "outputs": [],
   "source": [
    "import pandas as pd\n",
    "\n",
    "def transpose_csv(input_file, output_file):\n",
    "    # Read the CSV file\n",
    "    data = pd.read_csv(input_file, index_col=0)  # Use the first column as the index\n",
    "    \n",
    "    # Transpose the data\n",
    "    transposed_data = data.transpose()\n",
    "    \n",
    "    # Save the transposed data to a new CSV file\n",
    "    transposed_data.to_csv(output_file)\n",
    "\n",
    "# Usage\n",
    "input_file = \"InputNormCountFiles/NormCountsPlatelet.csv\"  # Input CSV file\n",
    "output_file = \"InputNormCountFiles/NormCountsPlateletTransposed.csv\"  # Output CSV file\n",
    "\n",
    "transpose_csv(input_file, output_file)"
   ]
  }
 ],
 "metadata": {
  "kernelspec": {
   "display_name": "env_1",
   "language": "python",
   "name": "python3"
  },
  "language_info": {
   "name": "python",
   "version": "3.11.5"
  }
 },
 "nbformat": 4,
 "nbformat_minor": 2
}
