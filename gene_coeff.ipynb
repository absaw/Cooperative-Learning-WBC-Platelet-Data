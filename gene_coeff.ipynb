{
 "cells": [
  {
   "cell_type": "code",
   "execution_count": null,
   "metadata": {},
   "outputs": [],
   "source": [
    "#Author: abhishek.sawalkar@rutgers.edu\n",
    "#Script: To find the common genes across different subtypes and then map it to diff gene expression log2fold change and padj values\n",
    "#env : env_ml"
   ]
  },
  {
   "cell_type": "code",
   "execution_count": 2,
   "metadata": {},
   "outputs": [],
   "source": [
    "#Import libraries\n",
    "import pandas as pd"
   ]
  },
  {
   "cell_type": "code",
   "execution_count": 10,
   "metadata": {},
   "outputs": [],
   "source": [
    "result_path = './results/co-op_learning/results_subtype_vs_control_consistency_final'\n",
    "et_file = result_path + \"/ET_FeatureCounts.csv\"\n",
    "pv_file = result_path + \"/PV_FeatureCounts.csv\"\n",
    "mf_file = result_path + \"/mf_FeatureCounts.csv\"\n",
    "\n",
    "et_data = pd.read_csv(et_file)\n",
    "pv_data = pd.read_csv(pv_file)\n",
    "mf_data = pd.read_csv(mf_file)\n",
    "\n",
    "et_genes = set(et_data.iloc[:,0])\n",
    "pv_genes = set(pv_data.iloc[:,0])\n",
    "mf_genes = set(mf_data.iloc[:,0])\n",
    "common_genes = et_genes & pv_genes & mf_genes"
   ]
  },
  {
   "cell_type": "code",
   "execution_count": 50,
   "metadata": {},
   "outputs": [],
   "source": [
    "et_out = result_path + \"/ET_Gene_Expression.csv\"\n",
    "pv_out = result_path + \"/PV_Gene_Expression.csv\"\n",
    "mf_out = result_path + \"/MF_Gene_Expression.csv\""
   ]
  },
  {
   "cell_type": "code",
   "execution_count": 25,
   "metadata": {},
   "outputs": [],
   "source": [
    "diff_path = './data/diff_gene_data/'\n",
    "et_diff = diff_path + 'ET_CTRL.csv'\n",
    "pv_diff = diff_path + 'PV_CTRL.csv'\n",
    "mf_diff = diff_path + 'MF_CTRL.csv'\n",
    "e\n",
    "et_diff = pd.read_csv(et_diff)\n",
    "pv_diff = pd.read_csv(pv_diff)\n",
    "mf_diff = pd.read_csv(mf_diff)\n"
   ]
  },
  {
   "cell_type": "code",
   "execution_count": 28,
   "metadata": {},
   "outputs": [
    {
     "name": "stdout",
     "output_type": "stream",
     "text": [
      "   Unnamed: 0                gene   baseMean  log2FoldChange     lfcSE  \\\n",
      "0        2907  ENSG00000107295.10  26.885494        0.953952  0.470081   \n",
      "\n",
      "        stat        pvalue          padj     ensg.cleaned hgnc_symbol  \n",
      "0  11.900516  1.176174e-32  2.626044e-28  ENSG00000107295      SH3GL2  \n"
     ]
    }
   ],
   "source": [
    "print(et_diff.head(1))"
   ]
  },
  {
   "cell_type": "code",
   "execution_count": 39,
   "metadata": {},
   "outputs": [
    {
     "data": {
      "text/plain": [
       "23"
      ]
     },
     "execution_count": 39,
     "metadata": {},
     "output_type": "execute_result"
    }
   ],
   "source": [
    "len(common_genes)"
   ]
  },
  {
   "cell_type": "code",
   "execution_count": 52,
   "metadata": {},
   "outputs": [],
   "source": [
    "# Remove prefix (e.g., X_ or Z_) from common_genes for comparison\n",
    "common_genes_cleaned = {gene.split('_', 1)[-1] for gene in common_genes}\n",
    "\n",
    "# Filter data: Match hgnc_symbol with cleaned common_genes\n",
    "final_table = et_diff[et_diff['hgnc_symbol'].isin(common_genes_cleaned)].copy()\n",
    "\n",
    "# Add the prefix back to matched genes\n",
    "final_table['Gene'] = final_table['hgnc_symbol'].apply(\n",
    "    lambda symbol: next((gene for gene in common_genes if gene.endswith(symbol)), None)\n",
    ")\n",
    "\n",
    "# Reorganize columns to have prefixed_gene as the first column\n",
    "columns_order = ['Gene','log2FoldChange','padj','pvalue','baseMean','lfcSE','stat'] #+ [col for col in final_table.columns if col != 'prefixed_gene']\n",
    "final_table = final_table[columns_order]\n",
    "# Sort the final table by padj\n",
    "final_table = final_table.sort_values(by='padj', ascending=True)"
   ]
  },
  {
   "cell_type": "code",
   "execution_count": 53,
   "metadata": {},
   "outputs": [],
   "source": [
    "final_table.to_csv(et_out,index=False)"
   ]
  },
  {
   "cell_type": "code",
   "execution_count": 55,
   "metadata": {},
   "outputs": [],
   "source": [
    "\n",
    "# Filter data: Match hgnc_symbol with cleaned common_genes\n",
    "pv_final_table = pv_diff[pv_diff['hgnc_symbol'].isin(common_genes_cleaned)].copy()\n",
    "\n",
    "# Add the prefix back to matched genes\n",
    "pv_final_table['Gene'] = pv_final_table['hgnc_symbol'].apply(\n",
    "    lambda symbol: next((gene for gene in common_genes if gene.endswith(symbol)), None)\n",
    ")\n",
    "\n",
    "# Reorganize columns to have prefixed_gene as the first column\n",
    "# columns_order = ['prefixed_gene'] + [col for col in et_final_table.columns if col != 'prefixed_gene']\n",
    "columns_order = ['Gene','log2FoldChange','padj','pvalue','baseMean','lfcSE','stat'] #+ [col for col in final_table.columns if col != 'prefixed_gene']\n",
    "\n",
    "pv_final_table = pv_final_table[columns_order]\n",
    "pv_final_table = pv_final_table.sort_values(by='padj', ascending=True)\n"
   ]
  },
  {
   "cell_type": "markdown",
   "metadata": {},
   "source": []
  },
  {
   "cell_type": "code",
   "execution_count": null,
   "metadata": {},
   "outputs": [],
   "source": [
    "pv_final_table.to_csv(pv_out,index=False)"
   ]
  },
  {
   "cell_type": "code",
   "execution_count": 58,
   "metadata": {},
   "outputs": [],
   "source": [
    "mf_final_table = mf_diff[mf_diff['hgnc_symbol'].isin(common_genes_cleaned)].copy()\n",
    "\n",
    "# Add the prefix back to matched genes\n",
    "mf_final_table['Gene'] = mf_final_table['hgnc_symbol'].apply(\n",
    "    lambda symbol: next((gene for gene in common_genes if gene.endswith(symbol)), None)\n",
    ")\n",
    "\n",
    "# Reorganize columns to have prefixed_gene as the first column\n",
    "columns_order = ['Gene','log2FoldChange','padj','pvalue','baseMean','lfcSE','stat'] #+ [col for col in final_table.columns if col != 'prefixed_gene']\n",
    "\n",
    "mf_final_table = mf_final_table[columns_order]\n",
    "mf_final_table = mf_final_table.sort_values(by='padj', ascending=True)\n"
   ]
  },
  {
   "cell_type": "code",
   "execution_count": null,
   "metadata": {},
   "outputs": [],
   "source": [
    "mf_final_table.to_excel(mf_out,index=False)"
   ]
  }
 ],
 "metadata": {
  "kernelspec": {
   "display_name": "env_ml",
   "language": "python",
   "name": "python3"
  },
  "language_info": {
   "codemirror_mode": {
    "name": "ipython",
    "version": 3
   },
   "file_extension": ".py",
   "mimetype": "text/x-python",
   "name": "python",
   "nbconvert_exporter": "python",
   "pygments_lexer": "ipython3",
   "version": "3.11.5"
  }
 },
 "nbformat": 4,
 "nbformat_minor": 2
}
